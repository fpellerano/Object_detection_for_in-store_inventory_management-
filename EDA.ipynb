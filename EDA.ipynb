{
 "cells": [
  {
   "cell_type": "markdown",
   "id": "1bac1e1d",
   "metadata": {},
   "source": [
    "# Objetc Classification\n",
    "\n",
    "## Exploratory Data Analysis\n"
   ]
  },
  {
   "cell_type": "code",
   "execution_count": 1,
   "id": "735086ec",
   "metadata": {},
   "outputs": [
    {
     "name": "stdout",
     "output_type": "stream",
     "text": [
      "Requirement already satisfied: opencv-python in /home/ferpe/.local/lib/python3.9/site-packages (4.6.0.66)\n",
      "Requirement already satisfied: numpy>=1.17.3 in /home/ferpe/.local/lib/python3.9/site-packages (from opencv-python) (1.23.4)\n",
      "Note: you may need to restart the kernel to use updated packages.\n"
     ]
    }
   ],
   "source": [
    "pip install opencv-python"
   ]
  },
  {
   "cell_type": "code",
   "execution_count": 2,
   "id": "a83201fc",
   "metadata": {},
   "outputs": [
    {
     "name": "stdout",
     "output_type": "stream",
     "text": [
      "Package                  Version\n",
      "------------------------ --------------------\n",
      "absl-py                  1.3.0\n",
      "anyio                    3.6.2\n",
      "argon2-cffi              21.3.0\n",
      "argon2-cffi-bindings     21.2.0\n",
      "asttokens                2.1.0\n",
      "attrs                    22.1.0\n",
      "awscli                   1.27.5\n",
      "backcall                 0.2.0\n",
      "beautifulsoup4           4.11.1\n",
      "bleach                   5.0.1\n",
      "boto3                    1.26.5\n",
      "botocore                 1.29.5\n",
      "cachetools               5.2.0\n",
      "certifi                  2022.9.24\n",
      "cffi                     1.15.1\n",
      "charset-normalizer       2.1.1\n",
      "contourpy                1.0.6\n",
      "cycler                   0.11.0\n",
      "debugpy                  1.6.3\n",
      "decorator                5.1.1\n",
      "defusedxml               0.7.1\n",
      "entrypoints              0.4\n",
      "executing                1.2.0\n",
      "fastjsonschema           2.16.2\n",
      "fonttools                4.38.0\n",
      "google-auth              2.14.1\n",
      "google-auth-oauthlib     0.4.6\n",
      "grpcio                   1.50.0\n",
      "idna                     3.4\n",
      "importlib-metadata       5.0.0\n",
      "ipykernel                6.17.1\n",
      "ipython                  8.6.0\n",
      "ipython-genutils         0.2.0\n",
      "ipywidgets               8.0.2\n",
      "jedi                     0.18.1\n",
      "Jinja2                   3.1.2\n",
      "jmespath                 1.0.1\n",
      "joblib                   1.2.0\n",
      "jsonschema               4.17.0\n",
      "jupyter                  1.0.0\n",
      "jupyter_client           7.4.5\n",
      "jupyter-console          6.4.4\n",
      "jupyter_core             5.0.0\n",
      "jupyter-server           1.23.2\n",
      "jupyterlab-pygments      0.2.2\n",
      "jupyterlab-widgets       3.0.3\n",
      "kiwisolver               1.4.4\n",
      "labelImg                 1.4.0\n",
      "Markdown                 3.4.1\n",
      "MarkupSafe               2.1.1\n",
      "matplotlib               3.6.2\n",
      "matplotlib-inline        0.1.6\n",
      "mistune                  2.0.4\n",
      "nbclassic                0.4.8\n",
      "nbclient                 0.7.0\n",
      "nbconvert                7.2.5\n",
      "nbformat                 5.7.0\n",
      "nest-asyncio             1.5.6\n",
      "notebook                 6.5.2\n",
      "notebook_shim            0.2.2\n",
      "numpy                    1.23.4\n",
      "nvidia-cublas-cu11       11.10.3.66\n",
      "nvidia-cuda-nvrtc-cu11   11.7.99\n",
      "nvidia-cuda-runtime-cu11 11.7.99\n",
      "nvidia-cudnn-cu11        8.5.0.96\n",
      "oauthlib                 3.2.2\n",
      "opencv-python            4.6.0.66\n",
      "packaging                21.3\n",
      "pandas                   1.5.1\n",
      "pandocfilters            1.5.0\n",
      "parso                    0.8.3\n",
      "pexpect                  4.8.0\n",
      "pickleshare              0.7.5\n",
      "Pillow                   9.3.0\n",
      "pip                      22.3.1\n",
      "platformdirs             2.5.3\n",
      "prometheus-client        0.15.0\n",
      "prompt-toolkit           3.0.32\n",
      "protobuf                 3.20.3\n",
      "psutil                   5.9.4\n",
      "ptyprocess               0.7.0\n",
      "pure-eval                0.2.2\n",
      "pyasn1                   0.4.8\n",
      "pyasn1-modules           0.2.8\n",
      "pybase64                 1.2.3\n",
      "pycparser                2.21\n",
      "Pygments                 2.13.0\n",
      "pyparsing                3.0.9\n",
      "PyQt5                    5.15.7\n",
      "PyQt5-Qt5                5.15.2\n",
      "PyQt5-sip                12.11.0\n",
      "pyrsistent               0.19.2\n",
      "python-dateutil          2.8.2\n",
      "pytz                     2022.6\n",
      "PyYAML                   6.0\n",
      "pyzmq                    24.0.1\n",
      "qtconsole                5.4.0\n",
      "QtPy                     2.3.0\n",
      "requests                 2.28.1\n",
      "requests-oauthlib        1.3.1\n",
      "rsa                      4.7.2\n",
      "s3transfer               0.6.0\n",
      "scikit-learn             1.1.3\n",
      "scipy                    1.9.3\n",
      "seaborn                  0.12.1\n",
      "Send2Trash               1.8.0\n",
      "setuptools               65.5.0\n",
      "six                      1.16.0\n",
      "sniffio                  1.3.0\n",
      "soupsieve                2.3.2.post1\n",
      "stack-data               0.6.1\n",
      "tensorboard              2.11.0\n",
      "tensorboard-data-server  0.6.1\n",
      "tensorboard-plugin-wit   1.8.1\n",
      "terminado                0.17.0\n",
      "thop                     0.1.1.post2209072238\n",
      "threadpoolctl            3.1.0\n",
      "tinycss2                 1.2.1\n",
      "torch                    1.13.0\n",
      "torchvision              0.14.0\n",
      "tornado                  6.2\n",
      "tqdm                     4.64.1\n",
      "traitlets                5.5.0\n",
      "typing_extensions        4.4.0\n",
      "urllib3                  1.26.12\n",
      "wcwidth                  0.2.5\n",
      "webencodings             0.5.1\n",
      "websocket-client         1.4.2\n",
      "Werkzeug                 2.2.2\n",
      "wheel                    0.37.1\n",
      "widgetsnbextension       4.0.3\n",
      "zipp                     3.10.0\n",
      "Note: you may need to restart the kernel to use updated packages.\n"
     ]
    }
   ],
   "source": [
    "pip list"
   ]
  },
  {
   "cell_type": "code",
   "execution_count": 3,
   "id": "ab430a81",
   "metadata": {},
   "outputs": [],
   "source": [
    "import os\n",
    "import cv2\n",
    "import matplotlib.pyplot as plt\n",
    "import pandas as pd\n",
    "import numpy as np\n",
    "import re\n",
    "from tqdm.notebook import tqdm"
   ]
  },
  {
   "cell_type": "markdown",
   "id": "88a1bd97",
   "metadata": {},
   "source": [
    "### Load dataset"
   ]
  },
  {
   "cell_type": "code",
   "execution_count": null,
   "id": "fcfbbe46",
   "metadata": {},
   "outputs": [],
   "source": [
    "columns_name = pd.read_csv('annotations/readme.txt')\n",
    "columns_name"
   ]
  },
  {
   "cell_type": "code",
   "execution_count": null,
   "id": "f1aa7d03",
   "metadata": {},
   "outputs": [],
   "source": [
    "labels = pd.read_csv('annotations/annotations_train.csv', header=None)\n",
    "labels.head()"
   ]
  },
  {
   "cell_type": "code",
   "execution_count": null,
   "id": "a23a91cb",
   "metadata": {},
   "outputs": [],
   "source": [
    "labels.info()"
   ]
  },
  {
   "cell_type": "code",
   "execution_count": null,
   "id": "84779b9c",
   "metadata": {},
   "outputs": [],
   "source": [
    "labels.describe()"
   ]
  },
  {
   "cell_type": "code",
   "execution_count": null,
   "id": "3ccd384e",
   "metadata": {},
   "outputs": [],
   "source": [
    "labels.nunique()"
   ]
  },
  {
   "cell_type": "code",
   "execution_count": null,
   "id": "fb3b9aa4",
   "metadata": {},
   "outputs": [],
   "source": [
    "import os\n",
    "path = 'images'\n",
    "for dir,subdir,files in os.walk(path):\n",
    "    print(dir,' ', str(len(files)))"
   ]
  },
  {
   "cell_type": "code",
   "execution_count": null,
   "id": "3a2fe8fe",
   "metadata": {},
   "outputs": [],
   "source": [
    "files = os.listdir(path)\n",
    "\n",
    "for element in files:\n",
    "    print(os.path.join(path, element))"
   ]
  },
  {
   "cell_type": "markdown",
   "id": "d0bfb2ea",
   "metadata": {},
   "source": [
    "#### Generator Fuction"
   ]
  },
  {
   "cell_type": "code",
   "execution_count": null,
   "id": "50c4366e",
   "metadata": {},
   "outputs": [],
   "source": [
    "def walkdir(path):\n",
    "    \"\"\"\n",
    "    Walk through all the files in a directory and its subfolders.\n",
    "\n",
    "    Parameters\n",
    "    ----------\n",
    "    folder : str\n",
    "        Path to the folder you want to walk.\n",
    "\n",
    "    Returns\n",
    "    -------\n",
    "        For each file found, yields a tuple having the path to the file\n",
    "        and the file name.\n",
    "    \"\"\"\n",
    "    for dirpath, _, files in os.walk(path):\n",
    "        for filename in files:\n",
    "            yield (dirpath, filename)"
   ]
  },
  {
   "cell_type": "code",
   "execution_count": null,
   "id": "623bded4",
   "metadata": {},
   "outputs": [],
   "source": [
    "walkdir(path)"
   ]
  },
  {
   "cell_type": "code",
   "execution_count": null,
   "id": "f65b1126",
   "metadata": {},
   "outputs": [],
   "source": [
    "for dirpath, filename in walkdir(path):\n",
    "#     print(dirpath)\n",
    "#     print(filename)\n",
    "    type_of_img = re.split(\"_\", filename)\n",
    "    print(type_of_img)"
   ]
  },
  {
   "cell_type": "code",
   "execution_count": null,
   "id": "b57ec529",
   "metadata": {},
   "outputs": [],
   "source": [
    "def listfiles(path):\n",
    "    \"\"\"\n",
    "    get the list of files inlcuded in the dataset\n",
    "    \"\"\"\n",
    "    train_list = []\n",
    "    test_list = []\n",
    "    val_list = []\n",
    "    for dirpath, filename in tqdm(walkdir(path)):\n",
    "#     for dirpath, filename in walkdir(path):\n",
    "        # files_to_process = os.path.join(dirpath, filename)\n",
    "        type_of_img = re.split(\"_\", filename)\n",
    "        # print(type_of_img[0])\n",
    "        if type_of_img[0] == \"train\":\n",
    "            train_list.append(filename)\n",
    "        if type_of_img[0] == \"test\":\n",
    "            test_list.append(filename)\n",
    "        if type_of_img[0] == \"val\":\n",
    "            val_list.append(filename)\n",
    "    print(f\"The total amount of TRAIN files are {len(train_list)}\")\n",
    "    print(f\"The total amount of VALIDATION files are {len(val_list)}\")\n",
    "    print(f\"The total amount of TEST files are {len(test_list)}\")\n",
    "\n",
    "    return train_list, test_list, val_list"
   ]
  },
  {
   "cell_type": "code",
   "execution_count": null,
   "id": "d8470ca6",
   "metadata": {},
   "outputs": [],
   "source": [
    "train_list, test_list, val_list = listfiles(path)"
   ]
  },
  {
   "cell_type": "markdown",
   "id": "79769e7a",
   "metadata": {},
   "source": [
    "## Working with images and OpenCV"
   ]
  },
  {
   "cell_type": "code",
   "execution_count": null,
   "id": "481e3591",
   "metadata": {},
   "outputs": [],
   "source": [
    "# Load an image\n",
    "img = cv2.imread('images/train_1103.jpg')\n",
    "\n",
    "print(f'Image type: {type(img)}')\n",
    "print(f'Image shape: {img.shape} (Height x Width x Channels)')\n",
    "print(f'Image min value: {img.min()}')\n",
    "print(f'Image max value: {img.max()}')\n"
   ]
  },
  {
   "cell_type": "markdown",
   "id": "69bd94c7",
   "metadata": {},
   "source": [
    "**Important Note:** An image loaded using OpenCV is just a Numpy array, keep in mind you can make use of all the numpy functionalities you know here."
   ]
  },
  {
   "cell_type": "code",
   "execution_count": null,
   "id": "6d755a60",
   "metadata": {},
   "outputs": [],
   "source": [
    "# We can access to pixel values\n",
    "px = img[100,100] \n",
    "print(px)\n"
   ]
  },
  {
   "cell_type": "code",
   "execution_count": null,
   "id": "7fbaab69",
   "metadata": {},
   "outputs": [],
   "source": [
    "# Display\n",
    "plt.imshow(img)\n",
    "plt.show()"
   ]
  },
  {
   "cell_type": "markdown",
   "id": "591f7c77",
   "metadata": {},
   "source": [
    "**Important Note:** OpenCV uses BGR format while matplotlib uses RGB."
   ]
  },
  {
   "cell_type": "code",
   "execution_count": null,
   "id": "9ab1959b",
   "metadata": {},
   "outputs": [],
   "source": [
    "# Convert from RGB to RGB first\n",
    "img_rgb = cv2.cvtColor(img, cv2.COLOR_BGR2RGB)\n",
    "\n",
    "# Then display the converted image\n",
    "plt.imshow(img_rgb)\n",
    "plt.show()"
   ]
  },
  {
   "cell_type": "code",
   "execution_count": null,
   "id": "e4b84f7c",
   "metadata": {},
   "outputs": [],
   "source": [
    "# Crop and extract a certain region from an image\n",
    "crop = img_rgb[150:560, 135:890]\n",
    "plt.imshow(crop)\n",
    "plt.show()"
   ]
  },
  {
   "cell_type": "markdown",
   "id": "089f4c4e",
   "metadata": {},
   "source": [
    "## Load and display some images and their label"
   ]
  },
  {
   "cell_type": "code",
   "execution_count": null,
   "id": "36fdca16",
   "metadata": {},
   "outputs": [],
   "source": [
    "# Buscar el nombre del archivo ../images/train_1103.jpg\n",
    "train_1103 = labels.loc[labels[0]=='train_1103.jpg']\n",
    "\n",
    "# extraer los BB del .csv\n",
    "x1 = train_1103.iloc[0][1]\n",
    "y1 = train_1103.iloc[0][2]\n",
    "x2 = train_1103.iloc[0][3]\n",
    "y2 = train_1103.iloc[0][4]\n",
    "ax1 = train_1103.iloc[1][1]\n",
    "ay1 = train_1103.iloc[1][2]\n",
    "ax2 = train_1103.iloc[1][3]\n",
    "ay2 = train_1103.iloc[1][4]\n",
    "# dibujarle los BB"
   ]
  },
  {
   "cell_type": "code",
   "execution_count": null,
   "id": "8379f5aa",
   "metadata": {},
   "outputs": [],
   "source": [
    "cv2.rectangle(img_rgb, (x1, y1), (x2, y2), (0,255,0), 20)\n",
    "cv2.rectangle(img_rgb, (ax1, ay1), (ax2, ay2), (0,255,0), 20)\n",
    "plt.imshow(img_rgb)\n",
    "plt.show()"
   ]
  },
  {
   "cell_type": "markdown",
   "id": "92f8a772",
   "metadata": {},
   "source": [
    "## Try to iterate over an entire image\n",
    "### iterrows()\n"
   ]
  },
  {
   "cell_type": "code",
   "execution_count": null,
   "id": "ac9c5818",
   "metadata": {},
   "outputs": [],
   "source": [
    "for index, row in train_1103.iterrows():\n",
    "    print(index, row)"
   ]
  },
  {
   "cell_type": "code",
   "execution_count": null,
   "id": "f6f93f4b",
   "metadata": {},
   "outputs": [],
   "source": [
    "\n",
    "for index, row in train_1103.iterrows():\n",
    "    x1 = row[1]\n",
    "    y1 = row[2]\n",
    "    x2 = row[3]\n",
    "    y2 = row[4]\n",
    "    cv2.rectangle(img_rgb, (x1, y1), (x2, y2), (0,255,0), 5)\n",
    "plt.imshow(img_rgb)\n",
    "plt.show()"
   ]
  },
  {
   "cell_type": "code",
   "execution_count": null,
   "id": "266b9985",
   "metadata": {},
   "outputs": [],
   "source": [
    "for file in train_list[20:30]:\n",
    "    path = os.path.join('images', file)\n",
    "    img = cv2.imread(path)\n",
    "    # Convert from GRB to RGB first\n",
    "    img_rgb = cv2.cvtColor(img, cv2.COLOR_BGR2RGB)\n",
    "    # Buscar el nombre del archivo ../images/train_1880.jpg\n",
    "    train_file = labels.loc[labels[0]==file]\n",
    "    for index, row in train_file.iterrows():\n",
    "        x1 = row[1]\n",
    "        y1 = row[2]\n",
    "        x2 = row[3]\n",
    "        y2 = row[4]\n",
    "        cv2.rectangle(img_rgb, (x1, y1), (x2, y2), (0,255,0), 5)\n",
    "    # Then display the converted image\n",
    "    plt.imshow(img_rgb)\n",
    "    plt.show()"
   ]
  },
  {
   "cell_type": "markdown",
   "id": "b07c83a2",
   "metadata": {},
   "source": [
    "## Train"
   ]
  },
  {
   "cell_type": "code",
   "execution_count": 5,
   "id": "f1f4b5f5",
   "metadata": {},
   "outputs": [],
   "source": [
    "df = pd.read_csv('annotations/annotations_train.csv')\n",
    "# bboxs = np.stack(df['bbox'].apply(lambda x: np.fromstring(x[1:-1], sep=',')))\n",
    "# for i, column in enumerate(['x', 'y', 'w', 'h']):\n",
    "#     df[column] = bboxs[:,i]\n",
    "# df.drop(columns=['bbox'], inplace=True)\n",
    "# df['x_center'] = df['x'] + df['w']/2\n",
    "# df['y_center'] = df['y'] + df['h']/2\n",
    "# df['classes'] = 0\n",
    "# from tqdm.auto import tqdm\n",
    "# import shutil as sh\n",
    "# df = df[['image_id','x', 'y', 'w', 'h','x_center','y_center','classes']]"
   ]
  },
  {
   "cell_type": "code",
   "execution_count": 6,
   "id": "2e7d420e",
   "metadata": {},
   "outputs": [
    {
     "data": {
      "text/html": [
       "<div>\n",
       "<style scoped>\n",
       "    .dataframe tbody tr th:only-of-type {\n",
       "        vertical-align: middle;\n",
       "    }\n",
       "\n",
       "    .dataframe tbody tr th {\n",
       "        vertical-align: top;\n",
       "    }\n",
       "\n",
       "    .dataframe thead th {\n",
       "        text-align: right;\n",
       "    }\n",
       "</style>\n",
       "<table border=\"1\" class=\"dataframe\">\n",
       "  <thead>\n",
       "    <tr style=\"text-align: right;\">\n",
       "      <th></th>\n",
       "      <th>train_0.jpg</th>\n",
       "      <th>208</th>\n",
       "      <th>537</th>\n",
       "      <th>422</th>\n",
       "      <th>814</th>\n",
       "      <th>object</th>\n",
       "      <th>3024</th>\n",
       "      <th>3024.1</th>\n",
       "    </tr>\n",
       "  </thead>\n",
       "  <tbody>\n",
       "    <tr>\n",
       "      <th>0</th>\n",
       "      <td>train_0.jpg</td>\n",
       "      <td>1268</td>\n",
       "      <td>1923</td>\n",
       "      <td>1365</td>\n",
       "      <td>2209</td>\n",
       "      <td>object</td>\n",
       "      <td>3024</td>\n",
       "      <td>3024</td>\n",
       "    </tr>\n",
       "    <tr>\n",
       "      <th>1</th>\n",
       "      <td>train_0.jpg</td>\n",
       "      <td>1135</td>\n",
       "      <td>2074</td>\n",
       "      <td>1261</td>\n",
       "      <td>2166</td>\n",
       "      <td>object</td>\n",
       "      <td>3024</td>\n",
       "      <td>3024</td>\n",
       "    </tr>\n",
       "    <tr>\n",
       "      <th>2</th>\n",
       "      <td>train_0.jpg</td>\n",
       "      <td>1045</td>\n",
       "      <td>2085</td>\n",
       "      <td>1122</td>\n",
       "      <td>2258</td>\n",
       "      <td>object</td>\n",
       "      <td>3024</td>\n",
       "      <td>3024</td>\n",
       "    </tr>\n",
       "    <tr>\n",
       "      <th>3</th>\n",
       "      <td>train_0.jpg</td>\n",
       "      <td>976</td>\n",
       "      <td>2036</td>\n",
       "      <td>1040</td>\n",
       "      <td>2177</td>\n",
       "      <td>object</td>\n",
       "      <td>3024</td>\n",
       "      <td>3024</td>\n",
       "    </tr>\n",
       "    <tr>\n",
       "      <th>4</th>\n",
       "      <td>train_0.jpg</td>\n",
       "      <td>863</td>\n",
       "      <td>2048</td>\n",
       "      <td>937</td>\n",
       "      <td>2194</td>\n",
       "      <td>object</td>\n",
       "      <td>3024</td>\n",
       "      <td>3024</td>\n",
       "    </tr>\n",
       "    <tr>\n",
       "      <th>...</th>\n",
       "      <td>...</td>\n",
       "      <td>...</td>\n",
       "      <td>...</td>\n",
       "      <td>...</td>\n",
       "      <td>...</td>\n",
       "      <td>...</td>\n",
       "      <td>...</td>\n",
       "      <td>...</td>\n",
       "    </tr>\n",
       "    <tr>\n",
       "      <th>1208476</th>\n",
       "      <td>train_999.jpg</td>\n",
       "      <td>422</td>\n",
       "      <td>2386</td>\n",
       "      <td>675</td>\n",
       "      <td>2542</td>\n",
       "      <td>object</td>\n",
       "      <td>2336</td>\n",
       "      <td>4160</td>\n",
       "    </tr>\n",
       "    <tr>\n",
       "      <th>1208477</th>\n",
       "      <td>train_999.jpg</td>\n",
       "      <td>427</td>\n",
       "      <td>2581</td>\n",
       "      <td>667</td>\n",
       "      <td>2715</td>\n",
       "      <td>object</td>\n",
       "      <td>2336</td>\n",
       "      <td>4160</td>\n",
       "    </tr>\n",
       "    <tr>\n",
       "      <th>1208478</th>\n",
       "      <td>train_999.jpg</td>\n",
       "      <td>699</td>\n",
       "      <td>2365</td>\n",
       "      <td>823</td>\n",
       "      <td>2474</td>\n",
       "      <td>object</td>\n",
       "      <td>2336</td>\n",
       "      <td>4160</td>\n",
       "    </tr>\n",
       "    <tr>\n",
       "      <th>1208479</th>\n",
       "      <td>train_999.jpg</td>\n",
       "      <td>1849</td>\n",
       "      <td>1678</td>\n",
       "      <td>2108</td>\n",
       "      <td>1769</td>\n",
       "      <td>object</td>\n",
       "      <td>2336</td>\n",
       "      <td>4160</td>\n",
       "    </tr>\n",
       "    <tr>\n",
       "      <th>1208480</th>\n",
       "      <td>train_999.jpg</td>\n",
       "      <td>905</td>\n",
       "      <td>1589</td>\n",
       "      <td>1144</td>\n",
       "      <td>1712</td>\n",
       "      <td>object</td>\n",
       "      <td>2336</td>\n",
       "      <td>4160</td>\n",
       "    </tr>\n",
       "  </tbody>\n",
       "</table>\n",
       "<p>1208481 rows × 8 columns</p>\n",
       "</div>"
      ],
      "text/plain": [
       "           train_0.jpg   208   537   422   814  object  3024  3024.1\n",
       "0          train_0.jpg  1268  1923  1365  2209  object  3024    3024\n",
       "1          train_0.jpg  1135  2074  1261  2166  object  3024    3024\n",
       "2          train_0.jpg  1045  2085  1122  2258  object  3024    3024\n",
       "3          train_0.jpg   976  2036  1040  2177  object  3024    3024\n",
       "4          train_0.jpg   863  2048   937  2194  object  3024    3024\n",
       "...                ...   ...   ...   ...   ...     ...   ...     ...\n",
       "1208476  train_999.jpg   422  2386   675  2542  object  2336    4160\n",
       "1208477  train_999.jpg   427  2581   667  2715  object  2336    4160\n",
       "1208478  train_999.jpg   699  2365   823  2474  object  2336    4160\n",
       "1208479  train_999.jpg  1849  1678  2108  1769  object  2336    4160\n",
       "1208480  train_999.jpg   905  1589  1144  1712  object  2336    4160\n",
       "\n",
       "[1208481 rows x 8 columns]"
      ]
     },
     "execution_count": 6,
     "metadata": {},
     "output_type": "execute_result"
    }
   ],
   "source": [
    "df"
   ]
  },
  {
   "cell_type": "code",
   "execution_count": null,
   "id": "7059f5bb",
   "metadata": {},
   "outputs": [],
   "source": []
  }
 ],
 "metadata": {
  "kernelspec": {
   "display_name": "Python 3 (ipykernel)",
   "language": "python",
   "name": "python3"
  },
  "language_info": {
   "codemirror_mode": {
    "name": "ipython",
    "version": 3
   },
   "file_extension": ".py",
   "mimetype": "text/x-python",
   "name": "python",
   "nbconvert_exporter": "python",
   "pygments_lexer": "ipython3",
   "version": "3.9.15"
  },
  "vscode": {
   "interpreter": {
    "hash": "31f2aee4e71d21fbe5cf8b01ff0e069b9275f58929596ceb00d14d90e3e16cd6"
   }
  }
 },
 "nbformat": 4,
 "nbformat_minor": 5
}
